{
 "cells": [
  {
   "cell_type": "code",
   "execution_count": 1,
   "metadata": {},
   "outputs": [
    {
     "name": "stdout",
     "output_type": "stream",
     "text": [
      "2\n"
     ]
    }
   ],
   "source": [
    "x=input()"
   ]
  },
  {
   "cell_type": "code",
   "execution_count": 2,
   "metadata": {},
   "outputs": [
    {
     "name": "stdout",
     "output_type": "stream",
     "text": [
      "what is todays date14-12-2018\n"
     ]
    }
   ],
   "source": [
    "x=input(\"what is todays date\")"
   ]
  },
  {
   "cell_type": "code",
   "execution_count": 5,
   "metadata": {},
   "outputs": [
    {
     "name": "stdout",
     "output_type": "stream",
     "text": [
      "what s your namebhawna\n",
      "what is ur birth date5\n",
      "bhawna 5\n"
     ]
    }
   ],
   "source": [
    "name=input(\"what s your name\")\n",
    "bday=input(\"what is ur birth date\")\n",
    "print(name,bday)"
   ]
  },
  {
   "cell_type": "code",
   "execution_count": 10,
   "metadata": {},
   "outputs": [
    {
     "name": "stdout",
     "output_type": "stream",
     "text": [
      "enter ur nameBhawna\n",
      "B\n",
      "h\n",
      "a\n",
      "w\n",
      "n\n",
      "a\n"
     ]
    }
   ],
   "source": [
    "#print ur name in different rows\n",
    "name=input(\"enter ur name\")\n",
    "for i in range(len(name)):\n",
    "    print(name[i])"
   ]
  },
  {
   "cell_type": "code",
   "execution_count": 20,
   "metadata": {},
   "outputs": [
    {
     "name": "stdout",
     "output_type": "stream",
     "text": [
      "enter diameter2\n",
      "4.1887902047863905\n"
     ]
    }
   ],
   "source": [
    "#volume of sphere\n",
    "from math import pi\n",
    "a=input(\"enter diameter\")\n",
    "r=int(a)/2\n",
    "volume=(4/3)*(pi)*(r**3)\n",
    "print(volume)"
   ]
  },
  {
   "cell_type": "code",
   "execution_count": 30,
   "metadata": {},
   "outputs": [
    {
     "name": "stdout",
     "output_type": "stream",
     "text": [
      "[2002, 2009, 2016, 2023, 2037, 2044, 2051, 2058, 2072, 2079, 2086, 2093, 2107, 2114, 2121, 2128, 2142, 2149, 2156, 2163, 2177, 2184, 2191, 2198, 2212, 2219, 2226, 2233, 2247, 2254, 2261, 2268, 2282, 2289, 2296, 2303, 2317, 2324, 2331, 2338, 2352, 2359, 2366, 2373, 2387, 2394, 2401, 2408, 2422, 2429, 2436, 2443, 2457, 2464, 2471, 2478, 2492, 2499, 2506, 2513, 2527, 2534, 2541, 2548, 2562, 2569, 2576, 2583, 2597, 2604, 2611, 2618, 2632, 2639, 2646, 2653, 2667, 2674, 2681, 2688, 2702, 2709, 2716, 2723, 2737, 2744, 2751, 2758, 2772, 2779, 2786, 2793, 2807, 2814, 2821, 2828, 2842, 2849, 2856, 2863, 2877, 2884, 2891, 2898, 2912, 2919, 2926, 2933, 2947, 2954, 2961, 2968, 2982, 2989, 2996, 3003, 3017, 3024, 3031, 3038, 3052, 3059, 3066, 3073, 3087, 3094, 3101, 3108, 3122, 3129, 3136, 3143, 3157, 3164, 3171, 3178, 3192, 3199]\n"
     ]
    }
   ],
   "source": [
    "#consider numbers between 2000,3200 and print those numbers which are devisible by 7 but not by 5.\n",
    "#=range(2000,3200)\n",
    "l=[]\n",
    "for i in range(2000,3200):\n",
    "    if i%7 ==0 and i%5 !=0: \n",
    "        l.append(i)\n",
    "print(l)\n",
    "    \n",
    "\n"
   ]
  },
  {
   "cell_type": "code",
   "execution_count": 2,
   "metadata": {},
   "outputs": [
    {
     "name": "stdout",
     "output_type": "stream",
     "text": [
      "enter ur namebhawna\n",
      "anwahb\n"
     ]
    }
   ],
   "source": [
    "#reverse your name\n",
    "a= input(\"enter ur name\")\n",
    "print(a[::-1])"
   ]
  },
  {
   "cell_type": "code",
   "execution_count": 12,
   "metadata": {},
   "outputs": [
    {
     "name": "stdout",
     "output_type": "stream",
     "text": [
      "* \n",
      "* * \n",
      "* * * \n",
      "* * * * \n"
     ]
    }
   ],
   "source": [
    "for i in range(4):\n",
    "    for j in range(0, i+1):\n",
    "        print(\"* \",end=\"\")\n",
    "    print()     "
   ]
  },
  {
   "cell_type": "code",
   "execution_count": 14,
   "metadata": {},
   "outputs": [
    {
     "name": "stdout",
     "output_type": "stream",
     "text": [
      "* \n",
      "* * \n",
      "* * * \n",
      "* * * * \n",
      "\n"
     ]
    }
   ],
   "source": [
    "\n",
    "for i in range(7):\n",
    "    \n",
    "    for j in range(0, i+1):\n",
    "        print(\"* \",end=\"\")\n",
    "    else print(::,-1)\n",
    "    print() \n",
    "a=4\n",
    "for k in range(a-1, 0):\n",
    "        print(\"*\",end=\"\")\n",
    "        \n",
    "print() "
   ]
  },
  {
   "cell_type": "code",
   "execution_count": 4,
   "metadata": {},
   "outputs": [
    {
     "name": "stdout",
     "output_type": "stream",
     "text": [
      "* \n",
      "* * \n",
      "* * * \n",
      "* * * * \n",
      "* * * \n",
      "* * \n",
      "* \n"
     ]
    }
   ],
   "source": [
    "#draw the stars pattern\n",
    "for i in range(4):\n",
    "    for j in range(0, i+1):\n",
    "        print(\"* \",end=\"\") \n",
    "    print() \n",
    "    \n",
    "for i in range(0,3):\n",
    "    for k in range(3,i,-1):\n",
    "        print(\"* \", end=\"\")\n",
    "    print()"
   ]
  },
  {
   "cell_type": "code",
   "execution_count": 22,
   "metadata": {},
   "outputs": [
    {
     "data": {
      "text/plain": [
       "[1,\n",
       " 2,\n",
       " 3,\n",
       " 5,\n",
       " 7,\n",
       " 11,\n",
       " 13,\n",
       " 17,\n",
       " 19,\n",
       " 23,\n",
       " 29,\n",
       " 31,\n",
       " 37,\n",
       " 41,\n",
       " 43,\n",
       " 47,\n",
       " 53,\n",
       " 59,\n",
       " 61,\n",
       " 67,\n",
       " 71,\n",
       " 73,\n",
       " 79,\n",
       " 83,\n",
       " 89,\n",
       " 97,\n",
       " 101,\n",
       " 103,\n",
       " 107,\n",
       " 109,\n",
       " 113,\n",
       " 127,\n",
       " 131,\n",
       " 137,\n",
       " 139,\n",
       " 149,\n",
       " 151,\n",
       " 157,\n",
       " 163,\n",
       " 167,\n",
       " 173,\n",
       " 179,\n",
       " 181,\n",
       " 191,\n",
       " 193,\n",
       " 197,\n",
       " 199,\n",
       " 211,\n",
       " 223,\n",
       " 227,\n",
       " 229,\n",
       " 233,\n",
       " 239,\n",
       " 241,\n",
       " 251,\n",
       " 257,\n",
       " 263,\n",
       " 269,\n",
       " 271,\n",
       " 277,\n",
       " 281,\n",
       " 283,\n",
       " 293,\n",
       " 307,\n",
       " 311,\n",
       " 313,\n",
       " 317,\n",
       " 331,\n",
       " 337,\n",
       " 347,\n",
       " 349,\n",
       " 353,\n",
       " 359,\n",
       " 367,\n",
       " 373,\n",
       " 379,\n",
       " 383,\n",
       " 389,\n",
       " 397,\n",
       " 401,\n",
       " 409,\n",
       " 419,\n",
       " 421,\n",
       " 431,\n",
       " 433,\n",
       " 439,\n",
       " 443,\n",
       " 449,\n",
       " 457,\n",
       " 461,\n",
       " 463,\n",
       " 467,\n",
       " 479,\n",
       " 487,\n",
       " 491,\n",
       " 499,\n",
       " 503,\n",
       " 509,\n",
       " 521,\n",
       " 523,\n",
       " 541,\n",
       " 547,\n",
       " 557,\n",
       " 563,\n",
       " 569,\n",
       " 571,\n",
       " 577,\n",
       " 587,\n",
       " 593,\n",
       " 599,\n",
       " 601,\n",
       " 607,\n",
       " 613,\n",
       " 617,\n",
       " 619,\n",
       " 631,\n",
       " 641,\n",
       " 643,\n",
       " 647,\n",
       " 653,\n",
       " 659,\n",
       " 661,\n",
       " 673,\n",
       " 677,\n",
       " 683,\n",
       " 691,\n",
       " 701,\n",
       " 709,\n",
       " 719,\n",
       " 727,\n",
       " 733,\n",
       " 739,\n",
       " 743,\n",
       " 751,\n",
       " 757,\n",
       " 761,\n",
       " 769,\n",
       " 773,\n",
       " 787,\n",
       " 797,\n",
       " 809,\n",
       " 811,\n",
       " 821,\n",
       " 823,\n",
       " 827,\n",
       " 829,\n",
       " 839,\n",
       " 853,\n",
       " 857,\n",
       " 859,\n",
       " 863,\n",
       " 877,\n",
       " 881,\n",
       " 883,\n",
       " 887,\n",
       " 907,\n",
       " 911,\n",
       " 919,\n",
       " 929,\n",
       " 937,\n",
       " 941,\n",
       " 947,\n",
       " 953,\n",
       " 967,\n",
       " 971,\n",
       " 977,\n",
       " 983,\n",
       " 991,\n",
       " 997]"
      ]
     },
     "execution_count": 22,
     "metadata": {},
     "output_type": "execute_result"
    }
   ],
   "source": [
    "#print all prime numbers in range 1000\n",
    "l=[]\n",
    "for i in range(1,1000):\n",
    "    c=0\n",
    "    for j in range(2,i):\n",
    "        if i%j==0:\n",
    "            c=c+1\n",
    "    if c==0:\n",
    "        l.append(i)\n",
    " \n",
    "l"
   ]
  },
  {
   "cell_type": "code",
   "execution_count": 31,
   "metadata": {},
   "outputs": [
    {
     "name": "stdout",
     "output_type": "stream",
     "text": [
      "1\n",
      "2\n",
      "Bhawna\n",
      "4\n",
      "K\n",
      "Bhawna\n",
      "7\n",
      "8\n",
      "Bhawna\n",
      "K\n",
      "11\n",
      "Bhawna\n",
      "13\n",
      "14\n",
      "BK\n",
      "16\n",
      "17\n",
      "Bhawna\n",
      "19\n",
      "K\n",
      "Bhawna\n",
      "22\n",
      "23\n",
      "Bhawna\n",
      "K\n",
      "26\n",
      "Bhawna\n",
      "28\n",
      "29\n",
      "BK\n",
      "31\n",
      "32\n",
      "Bhawna\n",
      "34\n",
      "K\n",
      "Bhawna\n",
      "37\n",
      "38\n",
      "Bhawna\n",
      "K\n",
      "41\n",
      "Bhawna\n",
      "43\n",
      "44\n",
      "BK\n",
      "46\n",
      "47\n",
      "Bhawna\n",
      "49\n",
      "K\n",
      "Bhawna\n",
      "52\n",
      "53\n",
      "Bhawna\n",
      "K\n",
      "56\n",
      "Bhawna\n",
      "58\n",
      "59\n",
      "BK\n",
      "61\n",
      "62\n",
      "Bhawna\n",
      "64\n",
      "K\n",
      "Bhawna\n",
      "67\n",
      "68\n",
      "Bhawna\n",
      "K\n",
      "71\n",
      "Bhawna\n",
      "73\n",
      "74\n",
      "BK\n",
      "76\n",
      "77\n",
      "Bhawna\n",
      "79\n",
      "K\n",
      "Bhawna\n",
      "82\n",
      "83\n",
      "Bhawna\n",
      "K\n",
      "86\n",
      "Bhawna\n",
      "88\n",
      "89\n",
      "BK\n",
      "91\n",
      "92\n",
      "Bhawna\n",
      "94\n",
      "K\n",
      "Bhawna\n",
      "97\n",
      "98\n",
      "Bhawna\n",
      "K\n"
     ]
    }
   ],
   "source": [
    "#wap that prints intergers from 1 to 100 but from multiples of 3 print ur name instead of number, multiple of 5 print ur surname, no. tat are multiple of both 3 &5 print ur complete name.\n",
    "#l[]\n",
    "for i in range(1,101):\n",
    "    if i%3==0 and i%5==0:\n",
    "        print(\"BK\")\n",
    "    elif i%3==0:\n",
    "        #l.append(i)\n",
    "        print(\"Bhawna\")\n",
    "    elif  i%5==0:\n",
    "        #l.append(i)\n",
    "        print(\"K\")\n",
    "    else: \n",
    "        print(i)"
   ]
  },
  {
   "cell_type": "code",
   "execution_count": 38,
   "metadata": {},
   "outputs": [
    {
     "name": "stdout",
     "output_type": "stream",
     "text": [
      "enter a sentencebh hjj lskdjf\n",
      "bh\n",
      "lskdjf\n"
     ]
    }
   ],
   "source": [
    "#print everyword in sentence that has even number of letters. \n",
    "#for i in input(\"enter a sentence\")\n",
    "i=input(\"enter a sentence\")\n",
    "\n",
    "l=list(i.split())\n",
    "for i in l:\n",
    "    if len(i)%2==0:\n",
    "        print(i)\n",
    "\n"
   ]
  },
  {
   "cell_type": "code",
   "execution_count": null,
   "metadata": {},
   "outputs": [],
   "source": []
  }
 ],
 "metadata": {
  "kernelspec": {
   "display_name": "Python 3",
   "language": "python",
   "name": "python3"
  },
  "language_info": {
   "codemirror_mode": {
    "name": "ipython",
    "version": 3
   },
   "file_extension": ".py",
   "mimetype": "text/x-python",
   "name": "python",
   "nbconvert_exporter": "python",
   "pygments_lexer": "ipython3",
   "version": "3.7.0"
  }
 },
 "nbformat": 4,
 "nbformat_minor": 2
}
